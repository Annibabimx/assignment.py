{
 "cells": [
  {
   "cell_type": "markdown",
   "id": "01893079-b990-472e-9417-776ee8b864e7",
   "metadata": {},
   "source": [
    "## Data numeric type(int)"
   ]
  },
  {
   "cell_type": "code",
   "execution_count": 1,
   "id": "8ec9847c-cdad-4141-b320-07a58c06a1fb",
   "metadata": {},
   "outputs": [
    {
     "name": "stdout",
     "output_type": "stream",
     "text": [
      "3\n"
     ]
    }
   ],
   "source": [
    "x=10;\n",
    "z=5;\n",
    "y=3\n",
    "print(y)"
   ]
  },
  {
   "cell_type": "markdown",
   "id": "60599a61-cb15-4178-a6f5-1d5c2b8893fb",
   "metadata": {},
   "source": [
    "## Data numeric type(float)"
   ]
  },
  {
   "cell_type": "code",
   "execution_count": 2,
   "id": "2937b0a6-0bd5-4364-9b03-b71b38e7a55d",
   "metadata": {},
   "outputs": [
    {
     "name": "stdout",
     "output_type": "stream",
     "text": [
      "2.3\n"
     ]
    }
   ],
   "source": [
    "x=2.3\n",
    "y=3.4\n",
    "z=2.5\n",
    "print(x)"
   ]
  },
  {
   "cell_type": "markdown",
   "id": "189bb7fa-d842-4ab3-81a8-28ceddfa6051",
   "metadata": {},
   "source": [
    "## Data numeric type(complex)"
   ]
  },
  {
   "cell_type": "code",
   "execution_count": 3,
   "id": "1ed9504e-a8cf-4c72-beff-949441ba0704",
   "metadata": {},
   "outputs": [
    {
     "name": "stdout",
     "output_type": "stream",
     "text": [
      "1j\n"
     ]
    }
   ],
   "source": [
    "x=1j\n",
    "y=3j\n",
    "z=23j\n",
    "print(x)"
   ]
  },
  {
   "cell_type": "markdown",
   "id": "133e7321-1584-4c4e-96b6-2dcfcfc75e83",
   "metadata": {},
   "source": [
    "## Data text type(string)"
   ]
  },
  {
   "cell_type": "code",
   "execution_count": 4,
   "id": "e8fcf6bf-0128-4fd1-9f6b-360b9c549deb",
   "metadata": {},
   "outputs": [
    {
     "name": "stdout",
     "output_type": "stream",
     "text": [
      "annabel\n"
     ]
    }
   ],
   "source": [
    "name= \"annabel\"\n",
    "print(name)"
   ]
  },
  {
   "cell_type": "markdown",
   "id": "df39de93-4fb5-4694-9a47-3b0a5abb88e7",
   "metadata": {},
   "source": [
    "## Data boolean type(boolean)"
   ]
  },
  {
   "cell_type": "code",
   "execution_count": 5,
   "id": "5fc68f3d-a50a-4770-911c-1474fc16a0d2",
   "metadata": {},
   "outputs": [
    {
     "data": {
      "text/plain": [
       "False"
      ]
     },
     "execution_count": 5,
     "metadata": {},
     "output_type": "execute_result"
    }
   ],
   "source": [
    "x = False\n",
    "y = True\n",
    "x"
   ]
  },
  {
   "cell_type": "markdown",
   "id": "145f08f8-41a5-4a46-bf96-bed1a462b40d",
   "metadata": {},
   "source": [
    "## Data Structures(list)"
   ]
  },
  {
   "cell_type": "code",
   "execution_count": 6,
   "id": "e0bb3534-b21e-4f34-b5f4-bd726434fbe1",
   "metadata": {},
   "outputs": [
    {
     "data": {
      "text/plain": [
       "['volvo', 'toyota', 'ford']"
      ]
     },
     "execution_count": 6,
     "metadata": {},
     "output_type": "execute_result"
    }
   ],
   "source": [
    "car= [\"volvo\", \"toyota\", \"ford\"]\n",
    "car"
   ]
  },
  {
   "cell_type": "markdown",
   "id": "5a8d37e0-a8c3-456f-a73b-18a8c7ddefd1",
   "metadata": {},
   "source": [
    "## Data Structures(tuples)"
   ]
  },
  {
   "cell_type": "code",
   "execution_count": 7,
   "id": "04fdd866-6899-4b54-b04f-6aae9e645e95",
   "metadata": {},
   "outputs": [
    {
     "name": "stdout",
     "output_type": "stream",
     "text": [
      "red\n",
      "green\n",
      "blue\n"
     ]
    }
   ],
   "source": [
    "colours = (\"red\", \"green\", \"blue\")\n",
    "print(colours[0])\n",
    "print(colours[1])\n",
    "print(colours[2])"
   ]
  },
  {
   "cell_type": "markdown",
   "id": "3046ff96-4dc6-4dfc-8437-31dd06d4f0df",
   "metadata": {},
   "source": [
    "## Data structures(list)"
   ]
  },
  {
   "cell_type": "code",
   "execution_count": 8,
   "id": "776dec6c-5ef7-4f07-8213-dbb384b6cf74",
   "metadata": {},
   "outputs": [
    {
     "data": {
      "text/plain": [
       "[1, 2, 3, 4, 5]"
      ]
     },
     "execution_count": 8,
     "metadata": {},
     "output_type": "execute_result"
    }
   ],
   "source": [
    "my_list = [1,2,3,4,5]\n",
    "my_list"
   ]
  },
  {
   "cell_type": "markdown",
   "id": "23188a8f-b23a-4e8c-b701-493980bdccd9",
   "metadata": {},
   "source": [
    "## Data structures(Dictionary)"
   ]
  },
  {
   "cell_type": "code",
   "execution_count": 9,
   "id": "02a16e4c-fac5-47e3-b0d6-21fa37215751",
   "metadata": {},
   "outputs": [
    {
     "name": "stdout",
     "output_type": "stream",
     "text": [
      "{'name': 'john', 'age': 30, 'city': 'new york'}\n"
     ]
    }
   ],
   "source": [
    "person = {\n",
    "    \"name\": \"john\",\n",
    "    \"age\" : 30,\n",
    "    \"city\" : \"new york\"\n",
    "}\n",
    "print(person)"
   ]
  }
 ],
 "metadata": {
  "kernelspec": {
   "display_name": "Python 3 (ipykernel)",
   "language": "python",
   "name": "python3"
  },
  "language_info": {
   "codemirror_mode": {
    "name": "ipython",
    "version": 3
   },
   "file_extension": ".py",
   "mimetype": "text/x-python",
   "name": "python",
   "nbconvert_exporter": "python",
   "pygments_lexer": "ipython3",
   "version": "3.13.7"
  }
 },
 "nbformat": 4,
 "nbformat_minor": 5
}
